{
 "cells": [
  {
   "cell_type": "markdown",
   "id": "9e997a7c",
   "metadata": {},
   "source": [
    "# IPL Analysis\n"
   ]
  },
  {
   "cell_type": "code",
   "execution_count": 1,
   "id": "64838a35",
   "metadata": {},
   "outputs": [],
   "source": [
    "#Import Required Libraries\n",
    "import pandas as pd\n",
    "from matplotlib import pyplot as plt\n"
   ]
  },
  {
   "cell_type": "markdown",
   "id": "2332c5c1",
   "metadata": {},
   "source": [
    "# Load DataSet"
   ]
  },
  {
   "cell_type": "code",
   "execution_count": 2,
   "id": "8caa5188",
   "metadata": {},
   "outputs": [
    {
     "data": {
      "text/html": [
       "<div>\n",
       "<style scoped>\n",
       "    .dataframe tbody tr th:only-of-type {\n",
       "        vertical-align: middle;\n",
       "    }\n",
       "\n",
       "    .dataframe tbody tr th {\n",
       "        vertical-align: top;\n",
       "    }\n",
       "\n",
       "    .dataframe thead th {\n",
       "        text-align: right;\n",
       "    }\n",
       "</style>\n",
       "<table border=\"1\" class=\"dataframe\">\n",
       "  <thead>\n",
       "    <tr style=\"text-align: right;\">\n",
       "      <th></th>\n",
       "      <th>Match_SK</th>\n",
       "      <th>match_id</th>\n",
       "      <th>Team1</th>\n",
       "      <th>Team2</th>\n",
       "      <th>match_date</th>\n",
       "      <th>Season_Year</th>\n",
       "      <th>Venue_Name</th>\n",
       "      <th>City_Name</th>\n",
       "      <th>Country_Name</th>\n",
       "      <th>Toss_Winner</th>\n",
       "      <th>match_winner</th>\n",
       "      <th>Toss_Name</th>\n",
       "      <th>Win_Type</th>\n",
       "      <th>Outcome_Type</th>\n",
       "      <th>ManOfMach</th>\n",
       "      <th>Win_Margin</th>\n",
       "      <th>Country_id</th>\n",
       "    </tr>\n",
       "  </thead>\n",
       "  <tbody>\n",
       "    <tr>\n",
       "      <th>0</th>\n",
       "      <td>0</td>\n",
       "      <td>335987</td>\n",
       "      <td>Royal Challengers Bangalore</td>\n",
       "      <td>Kolkata Knight Riders</td>\n",
       "      <td>4/18/2008</td>\n",
       "      <td>2008</td>\n",
       "      <td>M Chinnaswamy Stadium</td>\n",
       "      <td>Bangalore</td>\n",
       "      <td>India</td>\n",
       "      <td>Royal Challengers Bangalore</td>\n",
       "      <td>Kolkata Knight Riders</td>\n",
       "      <td>field</td>\n",
       "      <td>runs</td>\n",
       "      <td>Result</td>\n",
       "      <td>BB McCullum</td>\n",
       "      <td>140.0</td>\n",
       "      <td>1</td>\n",
       "    </tr>\n",
       "    <tr>\n",
       "      <th>1</th>\n",
       "      <td>1</td>\n",
       "      <td>335988</td>\n",
       "      <td>Kings XI Punjab</td>\n",
       "      <td>Chennai Super Kings</td>\n",
       "      <td>4/19/2008</td>\n",
       "      <td>2008</td>\n",
       "      <td>Punjab Cricket Association Stadium, Mohali</td>\n",
       "      <td>Chandigarh</td>\n",
       "      <td>India</td>\n",
       "      <td>Chennai Super Kings</td>\n",
       "      <td>Chennai Super Kings</td>\n",
       "      <td>bat</td>\n",
       "      <td>runs</td>\n",
       "      <td>Result</td>\n",
       "      <td>MEK Hussey</td>\n",
       "      <td>33.0</td>\n",
       "      <td>1</td>\n",
       "    </tr>\n",
       "    <tr>\n",
       "      <th>2</th>\n",
       "      <td>2</td>\n",
       "      <td>335989</td>\n",
       "      <td>Delhi Daredevils</td>\n",
       "      <td>Rajasthan Royals</td>\n",
       "      <td>4/19/2008</td>\n",
       "      <td>2008</td>\n",
       "      <td>Feroz Shah Kotla</td>\n",
       "      <td>Delhi</td>\n",
       "      <td>India</td>\n",
       "      <td>Rajasthan Royals</td>\n",
       "      <td>Delhi Daredevils</td>\n",
       "      <td>bat</td>\n",
       "      <td>wickets</td>\n",
       "      <td>Result</td>\n",
       "      <td>MF Maharoof</td>\n",
       "      <td>9.0</td>\n",
       "      <td>1</td>\n",
       "    </tr>\n",
       "    <tr>\n",
       "      <th>3</th>\n",
       "      <td>3</td>\n",
       "      <td>335990</td>\n",
       "      <td>Mumbai Indians</td>\n",
       "      <td>Royal Challengers Bangalore</td>\n",
       "      <td>4/20/2008</td>\n",
       "      <td>2008</td>\n",
       "      <td>Wankhede Stadium</td>\n",
       "      <td>Mumbai</td>\n",
       "      <td>India</td>\n",
       "      <td>Mumbai Indians</td>\n",
       "      <td>Royal Challengers Bangalore</td>\n",
       "      <td>bat</td>\n",
       "      <td>wickets</td>\n",
       "      <td>Result</td>\n",
       "      <td>MV Boucher</td>\n",
       "      <td>5.0</td>\n",
       "      <td>1</td>\n",
       "    </tr>\n",
       "    <tr>\n",
       "      <th>4</th>\n",
       "      <td>4</td>\n",
       "      <td>335991</td>\n",
       "      <td>Kolkata Knight Riders</td>\n",
       "      <td>Deccan Chargers</td>\n",
       "      <td>4/20/2008</td>\n",
       "      <td>2008</td>\n",
       "      <td>Eden Gardens</td>\n",
       "      <td>Kolkata</td>\n",
       "      <td>India</td>\n",
       "      <td>Deccan Chargers</td>\n",
       "      <td>Kolkata Knight Riders</td>\n",
       "      <td>bat</td>\n",
       "      <td>wickets</td>\n",
       "      <td>Result</td>\n",
       "      <td>DJ Hussey</td>\n",
       "      <td>5.0</td>\n",
       "      <td>1</td>\n",
       "    </tr>\n",
       "  </tbody>\n",
       "</table>\n",
       "</div>"
      ],
      "text/plain": [
       "   Match_SK  match_id                        Team1  \\\n",
       "0         0    335987  Royal Challengers Bangalore   \n",
       "1         1    335988              Kings XI Punjab   \n",
       "2         2    335989             Delhi Daredevils   \n",
       "3         3    335990               Mumbai Indians   \n",
       "4         4    335991        Kolkata Knight Riders   \n",
       "\n",
       "                         Team2 match_date  Season_Year  \\\n",
       "0        Kolkata Knight Riders  4/18/2008         2008   \n",
       "1          Chennai Super Kings  4/19/2008         2008   \n",
       "2             Rajasthan Royals  4/19/2008         2008   \n",
       "3  Royal Challengers Bangalore  4/20/2008         2008   \n",
       "4              Deccan Chargers  4/20/2008         2008   \n",
       "\n",
       "                                   Venue_Name   City_Name Country_Name  \\\n",
       "0                       M Chinnaswamy Stadium   Bangalore        India   \n",
       "1  Punjab Cricket Association Stadium, Mohali  Chandigarh        India   \n",
       "2                            Feroz Shah Kotla       Delhi        India   \n",
       "3                            Wankhede Stadium      Mumbai        India   \n",
       "4                                Eden Gardens     Kolkata        India   \n",
       "\n",
       "                   Toss_Winner                 match_winner Toss_Name  \\\n",
       "0  Royal Challengers Bangalore        Kolkata Knight Riders     field   \n",
       "1          Chennai Super Kings          Chennai Super Kings       bat   \n",
       "2             Rajasthan Royals             Delhi Daredevils       bat   \n",
       "3               Mumbai Indians  Royal Challengers Bangalore       bat   \n",
       "4              Deccan Chargers        Kolkata Knight Riders       bat   \n",
       "\n",
       "  Win_Type Outcome_Type    ManOfMach  Win_Margin  Country_id  \n",
       "0     runs       Result  BB McCullum       140.0           1  \n",
       "1     runs       Result   MEK Hussey        33.0           1  \n",
       "2  wickets       Result  MF Maharoof         9.0           1  \n",
       "3  wickets       Result   MV Boucher         5.0           1  \n",
       "4  wickets       Result    DJ Hussey         5.0           1  "
      ]
     },
     "execution_count": 2,
     "metadata": {},
     "output_type": "execute_result"
    }
   ],
   "source": [
    "ipl=pd.read_csv(r\"C:\\Users\\Admin\\Desktop\\New folder\\Match.csv\")\n",
    "ipl.head()"
   ]
  },
  {
   "cell_type": "code",
   "execution_count": 3,
   "id": "a1195bb6",
   "metadata": {},
   "outputs": [],
   "source": [
    "# Shape\n",
    "#ipl.shape\n"
   ]
  },
  {
   "cell_type": "code",
   "execution_count": 4,
   "id": "fe9dfeac",
   "metadata": {},
   "outputs": [],
   "source": [
    "# Dimention\n",
    "#ipl.ndim"
   ]
  },
  {
   "cell_type": "markdown",
   "id": "cf35904e",
   "metadata": {},
   "source": [
    "# Getting the Top 10 player with Most Man Of The Match\n"
   ]
  },
  {
   "cell_type": "code",
   "execution_count": 5,
   "id": "36449eb8",
   "metadata": {},
   "outputs": [
    {
     "data": {
      "text/plain": [
       "CH Gayle          18\n",
       "YK Pathan         16\n",
       "AB de Villiers    15\n",
       "DA Warner         15\n",
       "RG Sharma         14\n",
       "                  ..\n",
       "MD Mishra          1\n",
       "SB Wagh            1\n",
       "S Anirudha         1\n",
       "M Kartik           1\n",
       "KV Sharma          1\n",
       "Name: ManOfMach, Length: 202, dtype: int64"
      ]
     },
     "execution_count": 5,
     "metadata": {},
     "output_type": "execute_result"
    }
   ],
   "source": [
    "#.value_counts()\n",
    "\n",
    "ipl[\"ManOfMach\"].value_counts()\n"
   ]
  },
  {
   "cell_type": "markdown",
   "id": "ac7819b7",
   "metadata": {},
   "source": [
    "# Getting the Top 5 player with Most Man Of The Match .\n"
   ]
  },
  {
   "cell_type": "code",
   "execution_count": 6,
   "id": "2afaa400",
   "metadata": {},
   "outputs": [
    {
     "data": {
      "text/plain": [
       "CH Gayle          18\n",
       "YK Pathan         16\n",
       "AB de Villiers    15\n",
       "DA Warner         15\n",
       "RG Sharma         14\n",
       "Name: ManOfMach, dtype: int64"
      ]
     },
     "execution_count": 6,
     "metadata": {},
     "output_type": "execute_result"
    }
   ],
   "source": [
    "ipl[\"ManOfMach\"].value_counts()[0:5]\n"
   ]
  },
  {
   "cell_type": "markdown",
   "id": "99916fb6",
   "metadata": {},
   "source": [
    "# Bar Plot  Top 5 player with Most Man Of The Match .\n"
   ]
  },
  {
   "cell_type": "code",
   "execution_count": 7,
   "id": "b7319b7f",
   "metadata": {
    "scrolled": false
   },
   "outputs": [
    {
     "data": {
      "image/png": "[encoded data removed]",
      "text/plain": [
       "<Figure size 432x288 with 1 Axes>"
      ]
     },
     "metadata": {
      "needs_background": "light"
     },
     "output_type": "display_data"
    }
   ],
   "source": [
    "plt.bar(list(ipl[\"ManOfMach\"].value_counts()[0:5].keys()),list(ipl[\"ManOfMach\"].value_counts()[0:5]),color=\"g\")\n",
    "plt.show()"
   ]
  },
  {
   "cell_type": "markdown",
   "id": "0a45f4e4",
   "metadata": {},
   "source": [
    "# Rough"
   ]
  },
  {
   "cell_type": "code",
   "execution_count": 8,
   "id": "b2eed3d0",
   "metadata": {},
   "outputs": [
    {
     "data": {
      "text/plain": [
       "[18, 16, 15, 15, 14]"
      ]
     },
     "execution_count": 8,
     "metadata": {},
     "output_type": "execute_result"
    }
   ],
   "source": [
    "list(ipl[\"ManOfMach\"].value_counts()[0:5])"
   ]
  },
  {
   "cell_type": "code",
   "execution_count": 9,
   "id": "8a685208",
   "metadata": {},
   "outputs": [
    {
     "data": {
      "text/plain": [
       "['CH Gayle', 'YK Pathan', 'AB de Villiers', 'DA Warner', 'RG Sharma']"
      ]
     },
     "execution_count": 9,
     "metadata": {},
     "output_type": "execute_result"
    }
   ],
   "source": [
    "list(ipl[\"ManOfMach\"].value_counts()[0:5].keys())"
   ]
  },
  {
   "cell_type": "markdown",
   "id": "b73d3611",
   "metadata": {},
   "source": [
    "# Self Made pie Chart Waaao"
   ]
  },
  {
   "cell_type": "code",
   "execution_count": 10,
   "id": "54ae87c6",
   "metadata": {},
   "outputs": [
    {
     "data": {
      "image/png": "[encoded data removed]",
      "text/plain": [
       "<Figure size 432x288 with 1 Axes>"
      ]
     },
     "metadata": {},
     "output_type": "display_data"
    }
   ],
   "source": [
    "names=list(ipl[\"ManOfMach\"].value_counts()[0:5].keys())\n",
    "val=list(ipl[\"ManOfMach\"].value_counts()[0:5])\n",
    "plt.pie(val,labels=names,autopct='%0.1f%%',colors=[\"red\",\"yellow\",\"orange\",\"white\",\"blue\"])\n",
    "plt.show()"
   ]
  },
  {
   "cell_type": "markdown",
   "id": "e354b1ab",
   "metadata": {},
   "source": [
    "# IPL Outcome Check"
   ]
  },
  {
   "cell_type": "code",
   "execution_count": 11,
   "id": "8cad6bd7",
   "metadata": {},
   "outputs": [
    {
     "data": {
      "text/plain": [
       "Result       626\n",
       "Superover      6\n",
       "No Result      3\n",
       "abandoned      1\n",
       "tied           1\n",
       "Name: Outcome_Type, dtype: int64"
      ]
     },
     "execution_count": 11,
     "metadata": {},
     "output_type": "execute_result"
    }
   ],
   "source": [
    "ipl[\"Outcome_Type\"].value_counts()"
   ]
  },
  {
   "cell_type": "markdown",
   "id": "4ff80046",
   "metadata": {},
   "source": [
    "# IPL Toss Winner Check "
   ]
  },
  {
   "cell_type": "code",
   "execution_count": 12,
   "id": "c2e433ec",
   "metadata": {},
   "outputs": [],
   "source": [
    "# TOP 10"
   ]
  },
  {
   "cell_type": "code",
   "execution_count": 13,
   "id": "7ab438e3",
   "metadata": {},
   "outputs": [
    {
     "data": {
      "text/plain": [
       "Mumbai Indians                 85\n",
       "Kolkata Knight Riders          78\n",
       "Delhi Daredevils               72\n",
       "Royal Challengers Bangalore    70\n",
       "Kings XI Punjab                68\n",
       "Chennai Super Kings            66\n",
       "Rajasthan Royals               63\n",
       "Deccan Chargers                43\n",
       "Sunrisers Hyderabad            35\n",
       "Pune Warriors                  20\n",
       "Name: Toss_Winner, dtype: int64"
      ]
     },
     "execution_count": 13,
     "metadata": {},
     "output_type": "execute_result"
    }
   ],
   "source": [
    "ipl['Toss_Winner'].value_counts()[0:10]"
   ]
  },
  {
   "cell_type": "code",
   "execution_count": 14,
   "id": "020a915f",
   "metadata": {},
   "outputs": [],
   "source": [
    "# Top 5"
   ]
  },
  {
   "cell_type": "code",
   "execution_count": 15,
   "id": "2a61aa2f",
   "metadata": {},
   "outputs": [
    {
     "data": {
      "text/plain": [
       "Mumbai Indians                 85\n",
       "Kolkata Knight Riders          78\n",
       "Delhi Daredevils               72\n",
       "Royal Challengers Bangalore    70\n",
       "Kings XI Punjab                68\n",
       "Name: Toss_Winner, dtype: int64"
      ]
     },
     "execution_count": 15,
     "metadata": {},
     "output_type": "execute_result"
    }
   ],
   "source": [
    "ipl['Toss_Winner'].value_counts()[0:5]"
   ]
  },
  {
   "cell_type": "code",
   "execution_count": 16,
   "id": "ce42e95f",
   "metadata": {},
   "outputs": [
    {
     "data": {
      "image/png": "[encoded data removed]",
      "text/plain": [
       "<Figure size 432x288 with 1 Axes>"
      ]
     },
     "metadata": {},
     "output_type": "display_data"
    }
   ],
   "source": [
    "names=list(ipl[\"Toss_Winner\"].value_counts()[0:5].keys())\n",
    "val=list(ipl[\"Toss_Winner\"].value_counts()[0:5])\n",
    "plt.pie(val,labels=names,autopct='%0.1f%%',colors=[\"red\",\"yellow\",\"orange\",\"white\",\"blue\"])\n",
    "plt.show()"
   ]
  },
  {
   "cell_type": "markdown",
   "id": "44f53336",
   "metadata": {},
   "source": [
    "# IPL Matches Played Per Year"
   ]
  },
  {
   "cell_type": "code",
   "execution_count": 17,
   "id": "1c3d67be",
   "metadata": {},
   "outputs": [
    {
     "data": {
      "text/html": [
       "<div>\n",
       "<style scoped>\n",
       "    .dataframe tbody tr th:only-of-type {\n",
       "        vertical-align: middle;\n",
       "    }\n",
       "\n",
       "    .dataframe tbody tr th {\n",
       "        vertical-align: top;\n",
       "    }\n",
       "\n",
       "    .dataframe thead th {\n",
       "        text-align: right;\n",
       "    }\n",
       "</style>\n",
       "<table border=\"1\" class=\"dataframe\">\n",
       "  <thead>\n",
       "    <tr style=\"text-align: right;\">\n",
       "      <th></th>\n",
       "      <th>Match_SK</th>\n",
       "      <th>match_id</th>\n",
       "      <th>Team1</th>\n",
       "      <th>Team2</th>\n",
       "      <th>match_date</th>\n",
       "      <th>Season_Year</th>\n",
       "      <th>Venue_Name</th>\n",
       "      <th>City_Name</th>\n",
       "      <th>Country_Name</th>\n",
       "      <th>Toss_Winner</th>\n",
       "      <th>match_winner</th>\n",
       "      <th>Toss_Name</th>\n",
       "      <th>Win_Type</th>\n",
       "      <th>Outcome_Type</th>\n",
       "      <th>ManOfMach</th>\n",
       "      <th>Win_Margin</th>\n",
       "      <th>Country_id</th>\n",
       "    </tr>\n",
       "  </thead>\n",
       "  <tbody>\n",
       "    <tr>\n",
       "      <th>0</th>\n",
       "      <td>0</td>\n",
       "      <td>335987</td>\n",
       "      <td>Royal Challengers Bangalore</td>\n",
       "      <td>Kolkata Knight Riders</td>\n",
       "      <td>4/18/2008</td>\n",
       "      <td>2008</td>\n",
       "      <td>M Chinnaswamy Stadium</td>\n",
       "      <td>Bangalore</td>\n",
       "      <td>India</td>\n",
       "      <td>Royal Challengers Bangalore</td>\n",
       "      <td>Kolkata Knight Riders</td>\n",
       "      <td>field</td>\n",
       "      <td>runs</td>\n",
       "      <td>Result</td>\n",
       "      <td>BB McCullum</td>\n",
       "      <td>140.0</td>\n",
       "      <td>1</td>\n",
       "    </tr>\n",
       "    <tr>\n",
       "      <th>1</th>\n",
       "      <td>1</td>\n",
       "      <td>335988</td>\n",
       "      <td>Kings XI Punjab</td>\n",
       "      <td>Chennai Super Kings</td>\n",
       "      <td>4/19/2008</td>\n",
       "      <td>2008</td>\n",
       "      <td>Punjab Cricket Association Stadium, Mohali</td>\n",
       "      <td>Chandigarh</td>\n",
       "      <td>India</td>\n",
       "      <td>Chennai Super Kings</td>\n",
       "      <td>Chennai Super Kings</td>\n",
       "      <td>bat</td>\n",
       "      <td>runs</td>\n",
       "      <td>Result</td>\n",
       "      <td>MEK Hussey</td>\n",
       "      <td>33.0</td>\n",
       "      <td>1</td>\n",
       "    </tr>\n",
       "    <tr>\n",
       "      <th>2</th>\n",
       "      <td>2</td>\n",
       "      <td>335989</td>\n",
       "      <td>Delhi Daredevils</td>\n",
       "      <td>Rajasthan Royals</td>\n",
       "      <td>4/19/2008</td>\n",
       "      <td>2008</td>\n",
       "      <td>Feroz Shah Kotla</td>\n",
       "      <td>Delhi</td>\n",
       "      <td>India</td>\n",
       "      <td>Rajasthan Royals</td>\n",
       "      <td>Delhi Daredevils</td>\n",
       "      <td>bat</td>\n",
       "      <td>wickets</td>\n",
       "      <td>Result</td>\n",
       "      <td>MF Maharoof</td>\n",
       "      <td>9.0</td>\n",
       "      <td>1</td>\n",
       "    </tr>\n",
       "    <tr>\n",
       "      <th>3</th>\n",
       "      <td>3</td>\n",
       "      <td>335990</td>\n",
       "      <td>Mumbai Indians</td>\n",
       "      <td>Royal Challengers Bangalore</td>\n",
       "      <td>4/20/2008</td>\n",
       "      <td>2008</td>\n",
       "      <td>Wankhede Stadium</td>\n",
       "      <td>Mumbai</td>\n",
       "      <td>India</td>\n",
       "      <td>Mumbai Indians</td>\n",
       "      <td>Royal Challengers Bangalore</td>\n",
       "      <td>bat</td>\n",
       "      <td>wickets</td>\n",
       "      <td>Result</td>\n",
       "      <td>MV Boucher</td>\n",
       "      <td>5.0</td>\n",
       "      <td>1</td>\n",
       "    </tr>\n",
       "    <tr>\n",
       "      <th>4</th>\n",
       "      <td>4</td>\n",
       "      <td>335991</td>\n",
       "      <td>Kolkata Knight Riders</td>\n",
       "      <td>Deccan Chargers</td>\n",
       "      <td>4/20/2008</td>\n",
       "      <td>2008</td>\n",
       "      <td>Eden Gardens</td>\n",
       "      <td>Kolkata</td>\n",
       "      <td>India</td>\n",
       "      <td>Deccan Chargers</td>\n",
       "      <td>Kolkata Knight Riders</td>\n",
       "      <td>bat</td>\n",
       "      <td>wickets</td>\n",
       "      <td>Result</td>\n",
       "      <td>DJ Hussey</td>\n",
       "      <td>5.0</td>\n",
       "      <td>1</td>\n",
       "    </tr>\n",
       "  </tbody>\n",
       "</table>\n",
       "</div>"
      ],
      "text/plain": [
       "   Match_SK  match_id                        Team1  \\\n",
       "0         0    335987  Royal Challengers Bangalore   \n",
       "1         1    335988              Kings XI Punjab   \n",
       "2         2    335989             Delhi Daredevils   \n",
       "3         3    335990               Mumbai Indians   \n",
       "4         4    335991        Kolkata Knight Riders   \n",
       "\n",
       "                         Team2 match_date  Season_Year  \\\n",
       "0        Kolkata Knight Riders  4/18/2008         2008   \n",
       "1          Chennai Super Kings  4/19/2008         2008   \n",
       "2             Rajasthan Royals  4/19/2008         2008   \n",
       "3  Royal Challengers Bangalore  4/20/2008         2008   \n",
       "4              Deccan Chargers  4/20/2008         2008   \n",
       "\n",
       "                                   Venue_Name   City_Name Country_Name  \\\n",
       "0                       M Chinnaswamy Stadium   Bangalore        India   \n",
       "1  Punjab Cricket Association Stadium, Mohali  Chandigarh        India   \n",
       "2                            Feroz Shah Kotla       Delhi        India   \n",
       "3                            Wankhede Stadium      Mumbai        India   \n",
       "4                                Eden Gardens     Kolkata        India   \n",
       "\n",
       "                   Toss_Winner                 match_winner Toss_Name  \\\n",
       "0  Royal Challengers Bangalore        Kolkata Knight Riders     field   \n",
       "1          Chennai Super Kings          Chennai Super Kings       bat   \n",
       "2             Rajasthan Royals             Delhi Daredevils       bat   \n",
       "3               Mumbai Indians  Royal Challengers Bangalore       bat   \n",
       "4              Deccan Chargers        Kolkata Knight Riders       bat   \n",
       "\n",
       "  Win_Type Outcome_Type    ManOfMach  Win_Margin  Country_id  \n",
       "0     runs       Result  BB McCullum       140.0           1  \n",
       "1     runs       Result   MEK Hussey        33.0           1  \n",
       "2  wickets       Result  MF Maharoof         9.0           1  \n",
       "3  wickets       Result   MV Boucher         5.0           1  \n",
       "4  wickets       Result    DJ Hussey         5.0           1  "
      ]
     },
     "execution_count": 17,
     "metadata": {},
     "output_type": "execute_result"
    }
   ],
   "source": [
    "ipl=pd.read_csv(r\"C:\\Users\\Admin\\Desktop\\New folder\\Match.csv\")\n",
    "ipl.head()"
   ]
  },
  {
   "cell_type": "markdown",
   "id": "e80b89fa",
   "metadata": {},
   "source": [
    "# Bar Plot"
   ]
  },
  {
   "cell_type": "code",
   "execution_count": 18,
   "id": "61b6de16",
   "metadata": {},
   "outputs": [
    {
     "data": {
      "text/plain": [
       "[2013, 2012, 2011, 2010, 2014, 2016, 2017, 2015, 2008, 2009]"
      ]
     },
     "execution_count": 18,
     "metadata": {},
     "output_type": "execute_result"
    }
   ],
   "source": [
    "x=list(ipl[\"Season_Year\"].value_counts().keys())\n",
    "x\n"
   ]
  },
  {
   "cell_type": "code",
   "execution_count": 19,
   "id": "2bbfa98b",
   "metadata": {},
   "outputs": [
    {
     "data": {
      "text/plain": [
       "[76, 74, 73, 60, 60, 60, 60, 59, 58, 57]"
      ]
     },
     "execution_count": 19,
     "metadata": {},
     "output_type": "execute_result"
    }
   ],
   "source": [
    "y=list(ipl[\"Season_Year\"].value_counts())\n",
    "y"
   ]
  },
  {
   "cell_type": "code",
   "execution_count": 20,
   "id": "9662a3cd",
   "metadata": {},
   "outputs": [
    {
     "data": {
      "image/png": "[encoded data removed]",
      "text/plain": [
       "<Figure size 432x288 with 1 Axes>"
      ]
     },
     "metadata": {
      "needs_background": "light"
     },
     "output_type": "display_data"
    }
   ],
   "source": [
    "plt.bar(x,y)\n",
    "plt.show()"
   ]
  },
  {
   "cell_type": "markdown",
   "id": "3e0d967f",
   "metadata": {},
   "source": [
    "# Toss Winner Top 10 , Top 5"
   ]
  },
  {
   "cell_type": "code",
   "execution_count": 21,
   "id": "44d51f30",
   "metadata": {},
   "outputs": [],
   "source": [
    "#Top 10"
   ]
  },
  {
   "cell_type": "code",
   "execution_count": 22,
   "id": "ddcaff27",
   "metadata": {},
   "outputs": [
    {
     "data": {
      "text/plain": [
       "Mumbai Indians                 85\n",
       "Kolkata Knight Riders          78\n",
       "Delhi Daredevils               72\n",
       "Royal Challengers Bangalore    70\n",
       "Kings XI Punjab                68\n",
       "Chennai Super Kings            66\n",
       "Rajasthan Royals               63\n",
       "Deccan Chargers                43\n",
       "Sunrisers Hyderabad            35\n",
       "Pune Warriors                  20\n",
       "Name: Toss_Winner, dtype: int64"
      ]
     },
     "execution_count": 22,
     "metadata": {},
     "output_type": "execute_result"
    }
   ],
   "source": [
    "ipl[\"Toss_Winner\"].value_counts()[0:10]"
   ]
  },
  {
   "cell_type": "code",
   "execution_count": 23,
   "id": "ae46fa82",
   "metadata": {},
   "outputs": [],
   "source": [
    "# Top 5"
   ]
  },
  {
   "cell_type": "code",
   "execution_count": 24,
   "id": "5955ec2b",
   "metadata": {},
   "outputs": [
    {
     "data": {
      "text/plain": [
       "Mumbai Indians                 85\n",
       "Kolkata Knight Riders          78\n",
       "Delhi Daredevils               72\n",
       "Royal Challengers Bangalore    70\n",
       "Kings XI Punjab                68\n",
       "Name: Toss_Winner, dtype: int64"
      ]
     },
     "execution_count": 24,
     "metadata": {},
     "output_type": "execute_result"
    }
   ],
   "source": [
    "ipl[\"Toss_Winner\"].value_counts()[0:5]"
   ]
  },
  {
   "cell_type": "markdown",
   "id": "4a6096b7",
   "metadata": {},
   "source": [
    "# Pie Plot Of Top 5 Toss Winner"
   ]
  },
  {
   "cell_type": "code",
   "execution_count": 25,
   "id": "3ca270e5",
   "metadata": {},
   "outputs": [
    {
     "data": {
      "image/png": "[encoded data removed]",
      "text/plain": [
       "<Figure size 432x288 with 1 Axes>"
      ]
     },
     "metadata": {},
     "output_type": "display_data"
    }
   ],
   "source": [
    "nam=list(ipl[\"Toss_Winner\"].value_counts()[0:5].keys())\n",
    "va=list(ipl[\"Toss_Winner\"].value_counts()[0:5])\n",
    "plt.pie(va,labels=nam,autopct='%0.1f%%')\n",
    "plt.show()"
   ]
  },
  {
   "cell_type": "markdown",
   "id": "600ccf33",
   "metadata": {},
   "source": [
    "# Match Winner Top 10 , Top 5"
   ]
  },
  {
   "cell_type": "code",
   "execution_count": 26,
   "id": "41684533",
   "metadata": {},
   "outputs": [],
   "source": [
    "#Top 10"
   ]
  },
  {
   "cell_type": "code",
   "execution_count": 27,
   "id": "274710df",
   "metadata": {},
   "outputs": [
    {
     "data": {
      "text/plain": [
       "Mumbai Indians                 91\n",
       "Chennai Super Kings            79\n",
       "Kolkata Knight Riders          77\n",
       "Royal Challengers Bangalore    73\n",
       "Kings XI Punjab                70\n",
       "Rajasthan Royals               63\n",
       "Delhi Daredevils               62\n",
       "Sunrisers Hyderabad            42\n",
       "Deccan Chargers                29\n",
       "Rising Pune Supergiants        15\n",
       "Name: match_winner, dtype: int64"
      ]
     },
     "execution_count": 27,
     "metadata": {},
     "output_type": "execute_result"
    }
   ],
   "source": [
    "ipl[\"match_winner\"].value_counts()[0:10]"
   ]
  },
  {
   "cell_type": "code",
   "execution_count": 28,
   "id": "d81570f1",
   "metadata": {},
   "outputs": [],
   "source": [
    "# Top 5"
   ]
  },
  {
   "cell_type": "code",
   "execution_count": 29,
   "id": "cdefa084",
   "metadata": {},
   "outputs": [
    {
     "data": {
      "text/plain": [
       "Mumbai Indians                 91\n",
       "Chennai Super Kings            79\n",
       "Kolkata Knight Riders          77\n",
       "Royal Challengers Bangalore    73\n",
       "Kings XI Punjab                70\n",
       "Name: match_winner, dtype: int64"
      ]
     },
     "execution_count": 29,
     "metadata": {},
     "output_type": "execute_result"
    }
   ],
   "source": [
    "ipl[\"match_winner\"].value_counts()[0:5]"
   ]
  },
  {
   "cell_type": "markdown",
   "id": "0160ad5d",
   "metadata": {},
   "source": [
    "# Pie Plot Of Top 5 Match Winner"
   ]
  },
  {
   "cell_type": "code",
   "execution_count": 30,
   "id": "c41e93ef",
   "metadata": {},
   "outputs": [
    {
     "data": {
      "image/png": "[encoded data removed]",
      "text/plain": [
       "<Figure size 432x288 with 1 Axes>"
      ]
     },
     "metadata": {},
     "output_type": "display_data"
    }
   ],
   "source": [
    "nam=list(ipl[\"match_winner\"].value_counts()[0:5].keys())\n",
    "va=list(ipl[\"match_winner\"].value_counts()[0:5])\n",
    "plt.pie(va,labels=nam,autopct='%0.1f%%')\n",
    "plt.show()"
   ]
  },
  {
   "cell_type": "markdown",
   "id": "56d727a0",
   "metadata": {},
   "source": [
    "# Bar Plot Of Top 5 Match Winner"
   ]
  },
  {
   "cell_type": "code",
   "execution_count": 31,
   "id": "537eaa30",
   "metadata": {},
   "outputs": [
    {
     "data": {
      "image/png": "[encoded data removed]",
      "text/plain": [
       "<Figure size 936x360 with 1 Axes>"
      ]
     },
     "metadata": {
      "needs_background": "light"
     },
     "output_type": "display_data"
    }
   ],
   "source": [
    "plt.figure(figsize=(13,5))\n",
    "plt.bar(nam,va,color=[\"green\",\"yellow\",\"blue\",\"red\",\"orange\"])\n",
    "plt.show()"
   ]
  },
  {
   "cell_type": "code",
   "execution_count": null,
   "id": "28de4cf1",
   "metadata": {},
   "outputs": [],
   "source": []
  },
  {
   "cell_type": "markdown",
   "id": "060b7fb1",
   "metadata": {},
   "source": [
    "# Trying Subplot"
   ]
  },
  {
   "cell_type": "code",
   "execution_count": 32,
   "id": "31e3fb0f",
   "metadata": {},
   "outputs": [
    {
     "data": {
      "text/html": [
       "<div>\n",
       "<style scoped>\n",
       "    .dataframe tbody tr th:only-of-type {\n",
       "        vertical-align: middle;\n",
       "    }\n",
       "\n",
       "    .dataframe tbody tr th {\n",
       "        vertical-align: top;\n",
       "    }\n",
       "\n",
       "    .dataframe thead th {\n",
       "        text-align: right;\n",
       "    }\n",
       "</style>\n",
       "<table border=\"1\" class=\"dataframe\">\n",
       "  <thead>\n",
       "    <tr style=\"text-align: right;\">\n",
       "      <th></th>\n",
       "      <th>Match_SK</th>\n",
       "      <th>match_id</th>\n",
       "      <th>Team1</th>\n",
       "      <th>Team2</th>\n",
       "      <th>match_date</th>\n",
       "      <th>Season_Year</th>\n",
       "      <th>Venue_Name</th>\n",
       "      <th>City_Name</th>\n",
       "      <th>Country_Name</th>\n",
       "      <th>Toss_Winner</th>\n",
       "      <th>match_winner</th>\n",
       "      <th>Toss_Name</th>\n",
       "      <th>Win_Type</th>\n",
       "      <th>Outcome_Type</th>\n",
       "      <th>ManOfMach</th>\n",
       "      <th>Win_Margin</th>\n",
       "      <th>Country_id</th>\n",
       "    </tr>\n",
       "  </thead>\n",
       "  <tbody>\n",
       "    <tr>\n",
       "      <th>0</th>\n",
       "      <td>0</td>\n",
       "      <td>335987</td>\n",
       "      <td>Royal Challengers Bangalore</td>\n",
       "      <td>Kolkata Knight Riders</td>\n",
       "      <td>4/18/2008</td>\n",
       "      <td>2008</td>\n",
       "      <td>M Chinnaswamy Stadium</td>\n",
       "      <td>Bangalore</td>\n",
       "      <td>India</td>\n",
       "      <td>Royal Challengers Bangalore</td>\n",
       "      <td>Kolkata Knight Riders</td>\n",
       "      <td>field</td>\n",
       "      <td>runs</td>\n",
       "      <td>Result</td>\n",
       "      <td>BB McCullum</td>\n",
       "      <td>140.0</td>\n",
       "      <td>1</td>\n",
       "    </tr>\n",
       "    <tr>\n",
       "      <th>1</th>\n",
       "      <td>1</td>\n",
       "      <td>335988</td>\n",
       "      <td>Kings XI Punjab</td>\n",
       "      <td>Chennai Super Kings</td>\n",
       "      <td>4/19/2008</td>\n",
       "      <td>2008</td>\n",
       "      <td>Punjab Cricket Association Stadium, Mohali</td>\n",
       "      <td>Chandigarh</td>\n",
       "      <td>India</td>\n",
       "      <td>Chennai Super Kings</td>\n",
       "      <td>Chennai Super Kings</td>\n",
       "      <td>bat</td>\n",
       "      <td>runs</td>\n",
       "      <td>Result</td>\n",
       "      <td>MEK Hussey</td>\n",
       "      <td>33.0</td>\n",
       "      <td>1</td>\n",
       "    </tr>\n",
       "    <tr>\n",
       "      <th>2</th>\n",
       "      <td>2</td>\n",
       "      <td>335989</td>\n",
       "      <td>Delhi Daredevils</td>\n",
       "      <td>Rajasthan Royals</td>\n",
       "      <td>4/19/2008</td>\n",
       "      <td>2008</td>\n",
       "      <td>Feroz Shah Kotla</td>\n",
       "      <td>Delhi</td>\n",
       "      <td>India</td>\n",
       "      <td>Rajasthan Royals</td>\n",
       "      <td>Delhi Daredevils</td>\n",
       "      <td>bat</td>\n",
       "      <td>wickets</td>\n",
       "      <td>Result</td>\n",
       "      <td>MF Maharoof</td>\n",
       "      <td>9.0</td>\n",
       "      <td>1</td>\n",
       "    </tr>\n",
       "    <tr>\n",
       "      <th>3</th>\n",
       "      <td>3</td>\n",
       "      <td>335990</td>\n",
       "      <td>Mumbai Indians</td>\n",
       "      <td>Royal Challengers Bangalore</td>\n",
       "      <td>4/20/2008</td>\n",
       "      <td>2008</td>\n",
       "      <td>Wankhede Stadium</td>\n",
       "      <td>Mumbai</td>\n",
       "      <td>India</td>\n",
       "      <td>Mumbai Indians</td>\n",
       "      <td>Royal Challengers Bangalore</td>\n",
       "      <td>bat</td>\n",
       "      <td>wickets</td>\n",
       "      <td>Result</td>\n",
       "      <td>MV Boucher</td>\n",
       "      <td>5.0</td>\n",
       "      <td>1</td>\n",
       "    </tr>\n",
       "    <tr>\n",
       "      <th>4</th>\n",
       "      <td>4</td>\n",
       "      <td>335991</td>\n",
       "      <td>Kolkata Knight Riders</td>\n",
       "      <td>Deccan Chargers</td>\n",
       "      <td>4/20/2008</td>\n",
       "      <td>2008</td>\n",
       "      <td>Eden Gardens</td>\n",
       "      <td>Kolkata</td>\n",
       "      <td>India</td>\n",
       "      <td>Deccan Chargers</td>\n",
       "      <td>Kolkata Knight Riders</td>\n",
       "      <td>bat</td>\n",
       "      <td>wickets</td>\n",
       "      <td>Result</td>\n",
       "      <td>DJ Hussey</td>\n",
       "      <td>5.0</td>\n",
       "      <td>1</td>\n",
       "    </tr>\n",
       "  </tbody>\n",
       "</table>\n",
       "</div>"
      ],
      "text/plain": [
       "   Match_SK  match_id                        Team1  \\\n",
       "0         0    335987  Royal Challengers Bangalore   \n",
       "1         1    335988              Kings XI Punjab   \n",
       "2         2    335989             Delhi Daredevils   \n",
       "3         3    335990               Mumbai Indians   \n",
       "4         4    335991        Kolkata Knight Riders   \n",
       "\n",
       "                         Team2 match_date  Season_Year  \\\n",
       "0        Kolkata Knight Riders  4/18/2008         2008   \n",
       "1          Chennai Super Kings  4/19/2008         2008   \n",
       "2             Rajasthan Royals  4/19/2008         2008   \n",
       "3  Royal Challengers Bangalore  4/20/2008         2008   \n",
       "4              Deccan Chargers  4/20/2008         2008   \n",
       "\n",
       "                                   Venue_Name   City_Name Country_Name  \\\n",
       "0                       M Chinnaswamy Stadium   Bangalore        India   \n",
       "1  Punjab Cricket Association Stadium, Mohali  Chandigarh        India   \n",
       "2                            Feroz Shah Kotla       Delhi        India   \n",
       "3                            Wankhede Stadium      Mumbai        India   \n",
       "4                                Eden Gardens     Kolkata        India   \n",
       "\n",
       "                   Toss_Winner                 match_winner Toss_Name  \\\n",
       "0  Royal Challengers Bangalore        Kolkata Knight Riders     field   \n",
       "1          Chennai Super Kings          Chennai Super Kings       bat   \n",
       "2             Rajasthan Royals             Delhi Daredevils       bat   \n",
       "3               Mumbai Indians  Royal Challengers Bangalore       bat   \n",
       "4              Deccan Chargers        Kolkata Knight Riders       bat   \n",
       "\n",
       "  Win_Type Outcome_Type    ManOfMach  Win_Margin  Country_id  \n",
       "0     runs       Result  BB McCullum       140.0           1  \n",
       "1     runs       Result   MEK Hussey        33.0           1  \n",
       "2  wickets       Result  MF Maharoof         9.0           1  \n",
       "3  wickets       Result   MV Boucher         5.0           1  \n",
       "4  wickets       Result    DJ Hussey         5.0           1  "
      ]
     },
     "execution_count": 32,
     "metadata": {},
     "output_type": "execute_result"
    }
   ],
   "source": [
    "ipl=pd.read_csv(r\"C:\\Users\\Admin\\Desktop\\New folder\\Match.csv\")\n",
    "ipl.head()"
   ]
  },
  {
   "cell_type": "code",
   "execution_count": null,
   "id": "d8d37544",
   "metadata": {},
   "outputs": [],
   "source": []
  },
  {
   "cell_type": "markdown",
   "id": "4ffc1d46",
   "metadata": {},
   "source": [
    "# Finding How Many Times A team Has Won The Match  After Winning The Toss "
   ]
  },
  {
   "cell_type": "code",
   "execution_count": 33,
   "id": "e674bb3c",
   "metadata": {},
   "outputs": [],
   "source": [
    "v=ipl['Toss_Winner']==ipl['match_winner']"
   ]
  },
  {
   "cell_type": "code",
   "execution_count": 34,
   "id": "aff0f31a",
   "metadata": {},
   "outputs": [],
   "source": [
    "# Sum of True Value"
   ]
  },
  {
   "cell_type": "code",
   "execution_count": 35,
   "id": "e8dd7993",
   "metadata": {},
   "outputs": [
    {
     "data": {
      "text/plain": [
       "324"
      ]
     },
     "execution_count": 35,
     "metadata": {},
     "output_type": "execute_result"
    }
   ],
   "source": [
    "import numpy as np\n",
    "np.sum(v)"
   ]
  },
  {
   "cell_type": "code",
   "execution_count": 36,
   "id": "9f691143",
   "metadata": {},
   "outputs": [
    {
     "data": {
      "text/plain": [
       "0.5855572998430141"
      ]
     },
     "execution_count": 36,
     "metadata": {},
     "output_type": "execute_result"
    }
   ],
   "source": [
    "373/637"
   ]
  },
  {
   "cell_type": "code",
   "execution_count": 37,
   "id": "d48a30ce",
   "metadata": {},
   "outputs": [
    {
     "data": {
      "text/plain": [
       "58.55572998430141"
      ]
     },
     "execution_count": 37,
     "metadata": {},
     "output_type": "execute_result"
    }
   ],
   "source": [
    "0.5855572998430141*100"
   ]
  },
  {
   "cell_type": "markdown",
   "id": "39d01b42",
   "metadata": {},
   "source": [
    "# 58.55 Winning chance Of Team Who Won The Toss"
   ]
  }
 ],
 "metadata": {
  "kernelspec": {
   "display_name": "Python 3 (ipykernel)",
   "language": "python",
   "name": "python3"
  },
  "language_info": {
   "codemirror_mode": {
    "name": "ipython",
    "version": 3
   },
   "file_extension": ".py",
   "mimetype": "text/x-python",
   "name": "python",
   "nbconvert_exporter": "python",
   "pygments_lexer": "ipython3",
   "version": "3.9.12"
  }
 },
 "nbformat": 4,
 "nbformat_minor": 5
}
